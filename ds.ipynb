{
 "cells": [
  {
   "cell_type": "code",
   "execution_count": 1,
   "id": "681ca0be",
   "metadata": {},
   "outputs": [],
   "source": [
    "import pennylane as qml\n",
    "import torch\n",
    "import torch.nn as nn\n",
    "import torch.optim as optim\n",
    "from sklearn.datasets import load_iris\n",
    "from sklearn.model_selection import train_test_split\n",
    "from sklearn.preprocessing import StandardScaler\n",
    "import numpy as np"
   ]
  },
  {
   "cell_type": "code",
   "execution_count": 2,
   "id": "03db20b7",
   "metadata": {},
   "outputs": [],
   "source": [
    "# Загружаем датасет Iris\n",
    "data = load_iris()\n",
    "X, y = data.data, data.target\n",
    "\n",
    "# Нормализация данных\n",
    "scaler = StandardScaler()\n",
    "X = scaler.fit_transform(X)\n",
    "\n",
    "# Разделение на обучающую и тестовую выборки\n",
    "X_train, X_test, y_train, y_test = train_test_split(X, y, test_size=0.2, random_state=42)\n",
    "\n",
    "# Преобразуем данные в тензоры PyTorch\n",
    "X_train = torch.tensor(X_train, dtype=torch.float32)\n",
    "y_train = torch.tensor(y_train, dtype=torch.long)\n",
    "X_test = torch.tensor(X_test, dtype=torch.float32)\n",
    "y_test = torch.tensor(y_test, dtype=torch.long)"
   ]
  },
  {
   "cell_type": "code",
   "execution_count": 11,
   "id": "c9c52d6b",
   "metadata": {},
   "outputs": [
    {
     "data": {
      "text/plain": [
       "tensor([1, 0, 2, 1, 1, 0, 1, 2, 1, 1, 2, 0, 0, 0, 0, 1, 2, 1, 1, 2, 0, 2, 0, 2,\n",
       "        2, 2, 2, 2, 0, 0])"
      ]
     },
     "execution_count": 11,
     "metadata": {},
     "output_type": "execute_result"
    }
   ],
   "source": [
    "y_test"
   ]
  },
  {
   "cell_type": "code",
   "execution_count": 3,
   "id": "ac3554ff",
   "metadata": {},
   "outputs": [],
   "source": [
    "# Определение квантовой схемы\n",
    "dev = qml.device(\"default.qubit\", wires=4)\n",
    "\n",
    "def quantum_layer(inputs):\n",
    "    for i in range(4):\n",
    "        qml.RY(inputs[i], wires=i)\n",
    "    for i in range(3):\n",
    "        qml.CNOT(wires=[i, i+1])\n",
    "    return [qml.expval(qml.PauliZ(i)) for i in range(4)]\n",
    "\n",
    "qnode = qml.QNode(quantum_layer, dev, interface='torch')\n",
    "\n",
    "# Определение квантового слоя\n",
    "class QuantumLayer(nn.Module):\n",
    "    def __init__(self):\n",
    "        super().__init__()\n",
    "\n",
    "    def forward(self, x):\n",
    "        return torch.stack([torch.tensor(qnode(x_i), dtype=torch.float32) for x_i in x])\n",
    "\n",
    "# Определение гибридной квантово-классической LSTM модели\n",
    "class HybridQuantumLSTM(nn.Module):\n",
    "    def __init__(self):\n",
    "        super(HybridQuantumLSTM, self).__init__()\n",
    "        self.lstm = nn.LSTM(input_size=4, hidden_size=8, num_layers=1, batch_first=True)\n",
    "        self.quantum_layer = QuantumLayer()\n",
    "        self.fc = nn.Linear(4, 3)\n",
    "\n",
    "    def forward(self, x):\n",
    "        lstm_out, _ = self.lstm(x.unsqueeze(1))\n",
    "        quantum_out = self.quantum_layer(lstm_out.squeeze(1))\n",
    "        return self.fc(quantum_out)"
   ]
  },
  {
   "cell_type": "code",
   "execution_count": 4,
   "id": "a738437f",
   "metadata": {},
   "outputs": [],
   "source": [
    "# Инициализация модели, функции потерь и оптимизатора\n",
    "model = HybridQuantumLSTM()\n",
    "criterion = nn.CrossEntropyLoss()\n",
    "optimizer = optim.Adam(model.parameters(), lr=0.01)"
   ]
  },
  {
   "cell_type": "code",
   "execution_count": 8,
   "id": "4137e42e",
   "metadata": {
    "scrolled": true
   },
   "outputs": [
    {
     "name": "stdout",
     "output_type": "stream",
     "text": [
      "Epoch [1/100], Loss: 1.0993\n",
      "Epoch [2/100], Loss: 1.0989\n",
      "Epoch [3/100], Loss: 1.0987\n",
      "Epoch [4/100], Loss: 1.0987\n",
      "Epoch [5/100], Loss: 1.0987\n",
      "Epoch [6/100], Loss: 1.0989\n",
      "Epoch [7/100], Loss: 1.0990\n",
      "Epoch [8/100], Loss: 1.0991\n",
      "Epoch [9/100], Loss: 1.0992\n",
      "Epoch [10/100], Loss: 1.0991\n",
      "Epoch [11/100], Loss: 1.0989\n",
      "Epoch [12/100], Loss: 1.0987\n",
      "Epoch [13/100], Loss: 1.0985\n",
      "Epoch [14/100], Loss: 1.0982\n",
      "Epoch [15/100], Loss: 1.0980\n",
      "Epoch [16/100], Loss: 1.0978\n",
      "Epoch [17/100], Loss: 1.0977\n",
      "Epoch [18/100], Loss: 1.0976\n",
      "Epoch [19/100], Loss: 1.0975\n",
      "Epoch [20/100], Loss: 1.0975\n",
      "Epoch [21/100], Loss: 1.0974\n",
      "Epoch [22/100], Loss: 1.0974\n",
      "Epoch [23/100], Loss: 1.0974\n",
      "Epoch [24/100], Loss: 1.0973\n",
      "Epoch [25/100], Loss: 1.0972\n",
      "Epoch [26/100], Loss: 1.0971\n",
      "Epoch [27/100], Loss: 1.0969\n",
      "Epoch [28/100], Loss: 1.0968\n",
      "Epoch [29/100], Loss: 1.0967\n",
      "Epoch [30/100], Loss: 1.0966\n",
      "Epoch [31/100], Loss: 1.0965\n",
      "Epoch [32/100], Loss: 1.0964\n",
      "Epoch [33/100], Loss: 1.0963\n",
      "Epoch [34/100], Loss: 1.0962\n",
      "Epoch [35/100], Loss: 1.0961\n",
      "Epoch [36/100], Loss: 1.0961\n",
      "Epoch [37/100], Loss: 1.0960\n",
      "Epoch [38/100], Loss: 1.0959\n",
      "Epoch [39/100], Loss: 1.0958\n",
      "Epoch [40/100], Loss: 1.0957\n",
      "Epoch [41/100], Loss: 1.0956\n",
      "Epoch [42/100], Loss: 1.0955\n",
      "Epoch [43/100], Loss: 1.0954\n",
      "Epoch [44/100], Loss: 1.0953\n",
      "Epoch [45/100], Loss: 1.0952\n",
      "Epoch [46/100], Loss: 1.0951\n",
      "Epoch [47/100], Loss: 1.0950\n",
      "Epoch [48/100], Loss: 1.0949\n",
      "Epoch [49/100], Loss: 1.0948\n",
      "Epoch [50/100], Loss: 1.0947\n",
      "Epoch [51/100], Loss: 1.0946\n",
      "Epoch [52/100], Loss: 1.0945\n",
      "Epoch [53/100], Loss: 1.0944\n",
      "Epoch [54/100], Loss: 1.0943\n",
      "Epoch [55/100], Loss: 1.0942\n",
      "Epoch [56/100], Loss: 1.0941\n",
      "Epoch [57/100], Loss: 1.0940\n",
      "Epoch [58/100], Loss: 1.0939\n",
      "Epoch [59/100], Loss: 1.0938\n",
      "Epoch [60/100], Loss: 1.0937\n",
      "Epoch [61/100], Loss: 1.0936\n",
      "Epoch [62/100], Loss: 1.0935\n",
      "Epoch [63/100], Loss: 1.0933\n",
      "Epoch [64/100], Loss: 1.0932\n",
      "Epoch [65/100], Loss: 1.0931\n",
      "Epoch [66/100], Loss: 1.0930\n",
      "Epoch [67/100], Loss: 1.0929\n",
      "Epoch [68/100], Loss: 1.0928\n",
      "Epoch [69/100], Loss: 1.0927\n",
      "Epoch [70/100], Loss: 1.0926\n",
      "Epoch [71/100], Loss: 1.0925\n",
      "Epoch [72/100], Loss: 1.0924\n",
      "Epoch [73/100], Loss: 1.0923\n",
      "Epoch [74/100], Loss: 1.0922\n",
      "Epoch [75/100], Loss: 1.0921\n",
      "Epoch [76/100], Loss: 1.0919\n",
      "Epoch [77/100], Loss: 1.0918\n",
      "Epoch [78/100], Loss: 1.0917\n",
      "Epoch [79/100], Loss: 1.0916\n",
      "Epoch [80/100], Loss: 1.0915\n",
      "Epoch [81/100], Loss: 1.0914\n",
      "Epoch [82/100], Loss: 1.0913\n",
      "Epoch [83/100], Loss: 1.0912\n",
      "Epoch [84/100], Loss: 1.0911\n",
      "Epoch [85/100], Loss: 1.0909\n",
      "Epoch [86/100], Loss: 1.0908\n",
      "Epoch [87/100], Loss: 1.0907\n",
      "Epoch [88/100], Loss: 1.0906\n",
      "Epoch [89/100], Loss: 1.0905\n",
      "Epoch [90/100], Loss: 1.0904\n",
      "Epoch [91/100], Loss: 1.0903\n",
      "Epoch [92/100], Loss: 1.0901\n",
      "Epoch [93/100], Loss: 1.0900\n",
      "Epoch [94/100], Loss: 1.0899\n",
      "Epoch [95/100], Loss: 1.0898\n",
      "Epoch [96/100], Loss: 1.0897\n",
      "Epoch [97/100], Loss: 1.0896\n",
      "Epoch [98/100], Loss: 1.0894\n",
      "Epoch [99/100], Loss: 1.0893\n",
      "Epoch [100/100], Loss: 1.0892\n"
     ]
    }
   ],
   "source": [
    "# Обучение модели\n",
    "num_epochs = 100\n",
    "for epoch in range(num_epochs):\n",
    "    optimizer.zero_grad()\n",
    "    outputs = model(X_train)\n",
    "    loss = criterion(outputs, y_train)\n",
    "    loss.backward()\n",
    "    optimizer.step()\n",
    "    print(f'Epoch [{epoch+1}/{num_epochs}], Loss: {loss.item():.4f}')"
   ]
  },
  {
   "cell_type": "code",
   "execution_count": 10,
   "id": "9a43360b",
   "metadata": {},
   "outputs": [
    {
     "name": "stdout",
     "output_type": "stream",
     "text": [
      "Test Accuracy: 0.3000\n"
     ]
    }
   ],
   "source": [
    "# Тестирование модели\n",
    "with torch.no_grad():\n",
    "    y_pred = model(X_test)\n",
    "    y_pred_classes = torch.argmax(y_pred, dim=1)\n",
    "    accuracy = (y_pred_classes == y_test).float().mean()\n",
    "    print(f'Test Accuracy: {accuracy:.4f}')"
   ]
  },
  {
   "cell_type": "code",
   "execution_count": null,
   "id": "2ffe0025",
   "metadata": {},
   "outputs": [],
   "source": []
  },
  {
   "cell_type": "code",
   "execution_count": null,
   "id": "801daf03",
   "metadata": {},
   "outputs": [],
   "source": []
  },
  {
   "cell_type": "code",
   "execution_count": null,
   "id": "adb5f36c",
   "metadata": {},
   "outputs": [],
   "source": []
  },
  {
   "cell_type": "code",
   "execution_count": null,
   "id": "68506673",
   "metadata": {},
   "outputs": [],
   "source": []
  },
  {
   "cell_type": "code",
   "execution_count": null,
   "id": "ea851117",
   "metadata": {},
   "outputs": [],
   "source": []
  },
  {
   "cell_type": "code",
   "execution_count": null,
   "id": "1c72b4f5",
   "metadata": {},
   "outputs": [],
   "source": []
  },
  {
   "cell_type": "code",
   "execution_count": null,
   "id": "ddbffa55",
   "metadata": {},
   "outputs": [],
   "source": []
  },
  {
   "cell_type": "code",
   "execution_count": null,
   "id": "3fd1aed9",
   "metadata": {},
   "outputs": [],
   "source": []
  },
  {
   "cell_type": "code",
   "execution_count": null,
   "id": "eeacd6c2",
   "metadata": {},
   "outputs": [],
   "source": []
  },
  {
   "cell_type": "code",
   "execution_count": null,
   "id": "b21b5584",
   "metadata": {},
   "outputs": [],
   "source": []
  },
  {
   "cell_type": "code",
   "execution_count": null,
   "id": "2c36091b",
   "metadata": {},
   "outputs": [],
   "source": []
  },
  {
   "cell_type": "code",
   "execution_count": null,
   "id": "3e5ee059",
   "metadata": {},
   "outputs": [],
   "source": []
  }
 ],
 "metadata": {
  "kernelspec": {
   "display_name": "Python 3 (ipykernel)",
   "language": "python",
   "name": "python3"
  },
  "language_info": {
   "codemirror_mode": {
    "name": "ipython",
    "version": 3
   },
   "file_extension": ".py",
   "mimetype": "text/x-python",
   "name": "python",
   "nbconvert_exporter": "python",
   "pygments_lexer": "ipython3",
   "version": "3.11.11"
  }
 },
 "nbformat": 4,
 "nbformat_minor": 5
}
